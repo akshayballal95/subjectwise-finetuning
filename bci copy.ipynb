{
 "cells": [
  {
   "cell_type": "code",
   "execution_count": 1,
   "id": "5d662ddf",
   "metadata": {},
   "outputs": [],
   "source": [
    "%load_ext autoreload\n",
    "%autoreload 2"
   ]
  },
  {
   "cell_type": "code",
   "execution_count": 2,
   "id": "7c22de69-4947-4fea-abfc-ebf7d07308f7",
   "metadata": {},
   "outputs": [
    {
     "name": "stderr",
     "output_type": "stream",
     "text": [
      "<frozen importlib._bootstrap>:241: FutureWarning: mne.io.pick.pick_types is deprecated will be removed in 1.6, use documented public API instead. If no appropriate public API exists, please open an issue on GitHub.\n",
      "<frozen importlib._bootstrap>:241: FutureWarning: mne.io.pick.pick_channels_regexp is deprecated will be removed in 1.6, use documented public API instead. If no appropriate public API exists, please open an issue on GitHub.\n",
      "<frozen importlib._bootstrap>:241: FutureWarning: mne.io.pick.channel_type is deprecated will be removed in 1.6, use documented public API instead. If no appropriate public API exists, please open an issue on GitHub.\n",
      "d:\\Programs\\minconda3\\envs\\serpentine\\Lib\\site-packages\\moabb\\pipelines\\__init__.py:26: ModuleNotFoundError: Tensorflow is not installed. You won't be able to use these MOABB pipelines if you attempt to do so.\n",
      "  warn(\n",
      "d:\\Programs\\minconda3\\envs\\serpentine\\Lib\\site-packages\\tqdm\\auto.py:21: TqdmWarning: IProgress not found. Please update jupyter and ipywidgets. See https://ipywidgets.readthedocs.io/en/stable/user_install.html\n",
      "  from .autonotebook import tqdm as notebook_tqdm\n"
     ]
    }
   ],
   "source": [
    "import mne\n",
    "from moabb.datasets import BNCI2014_001\n",
    "import numpy as np\n",
    "from ComfyNet import ComfyNet\n",
    "from sklearn.model_selection import train_test_split\n",
    "import torch\n",
    "from torch import nn\n",
    "from train_test import train, test\n",
    "from matplotlib import pyplot as plt\n",
    "from data import get_data\n",
    "import matplotlib.pyplot as plt"
   ]
  },
  {
   "cell_type": "code",
   "execution_count": 3,
   "id": "2a67553f-aa87-41c8-b000-ab19cb5f2220",
   "metadata": {},
   "outputs": [],
   "source": [
    "mne.set_config(\"MNE_DATA\",\"bciData\")\n",
    "\n",
    "subjects = [1]\n",
    "dataset = BNCI2014_001().get_data(subjects=subjects)"
   ]
  },
  {
   "cell_type": "code",
   "execution_count": 4,
   "id": "1b5c0476-5f6d-4549-b842-9e217fb0d656",
   "metadata": {},
   "outputs": [],
   "source": [
    "class DatasetWrapped(torch.utils.data.Dataset):\n",
    "    def __init__(self, X, Y):\n",
    "        # Convert to torch tensors\n",
    "        self.X = torch.from_numpy(X).float()\n",
    "        self.Y = torch.from_numpy(Y).long()\n",
    "    def __len__(self):\n",
    "        return len(self.X)\n",
    "    def __getitem__(self, idx):\n",
    "        return(self.X[idx], self.Y[idx])\n",
    "\n",
    "from braindecode.augmentation import AugmentedDataLoader, FrequencyShift, GaussianNoise, ChannelsDropout\n",
    "sfreq = 250\n",
    "freq_shift = FrequencyShift(\n",
    "    probability=0.5,\n",
    "    sfreq=sfreq,\n",
    "    max_delta_freq=2.0,  # the frequency shifts are sampled now between -2 and 2 Hz\n",
    ")\n",
    "\n",
    "transforms = [freq_shift]\n"
   ]
  },
  {
   "cell_type": "code",
   "execution_count": 5,
   "id": "de6548bf-4be3-4a4b-aeda-3074456131e7",
   "metadata": {},
   "outputs": [],
   "source": [
    "# seed = 20231229\n",
    "\n",
    "# random.seed(seed)\n",
    "# torch.manual_seed(seed)\n",
    "# np.random.seed(seed)\n",
    "\n",
    "cuda = torch.cuda.is_available()  # check if GPU is available, if True chooses to use it\n",
    "device = \"cuda\" if cuda else \"cpu\"\n",
    "if cuda:\n",
    "    torch.backends.cudnn.benchmark = False\n",
    "    # torch.cuda.manual_seed_all(seed)\n",
    "else:\n",
    "    print(\"Warning: CUDA is not available on this machine, fallback to CPU.\")\n",
    "\n",
    "# Extract number of chans and time steps from dataset\n",
    "input_window_samples =1001\n",
    "\n",
    "bci_ch_names = ['Fz', 'FC3', 'FC1', 'FCz', 'FC2', 'FC4', 'C5', 'C3', 'C1', 'Cz', 'C2', 'C4', 'C6', 'CP3', 'CP1', 'CPz', 'CP2', 'CP4', 'P1', 'Pz', 'P2', 'POz', 'EOG1', 'EOG2', 'EOG3', 'stim']\n",
    "n_classes_bci = 2\n",
    "\n",
    "def build_model():\n",
    "\n",
    "    model = ComfyNet(\n",
    "        n_outputs=n_classes_bci,\n",
    "        n_chans=len(bci_ch_names[:22]),\n",
    "        n_filters_time=40,\n",
    "        filter_time_length=25,\n",
    "        pool_time_length=75,\n",
    "        pool_time_stride=15,\n",
    "        drop_prob=0.5,\n",
    "        att_depth=1,\n",
    "        att_heads=10,\n",
    "        att_drop_prob=0.5,\n",
    "        return_features=False,\n",
    "        n_times = input_window_samples,\n",
    "        final_fc_length = \"auto\"\n",
    "    )\n",
    "    # Send model to GPU\n",
    "    if cuda:\n",
    "        model.cuda()\n",
    "    \n",
    "    return model"
   ]
  },
  {
   "cell_type": "code",
   "execution_count": 6,
   "id": "a1b29992",
   "metadata": {},
   "outputs": [],
   "source": [
    "def save_model(model,metrics,optimizer, X_mean, X_std, path):\n",
    "        torch.save({\n",
    "        'model_state_dict': model.state_dict(),\n",
    "        'optimizer_state_dict': optimizer.state_dict(),\n",
    "        'train_loss': metrics[0],\n",
    "        'train_acc': metrics[1],\n",
    "        'val_loss': metrics[2],\n",
    "        'val_acc': metrics[3],\n",
    "        'X_mean': X_mean,\n",
    "        'X_std': X_std\n",
    "    }, f\"models/{path}.pt\")\n",
    "  \n",
    "    "
   ]
  },
  {
   "cell_type": "code",
   "execution_count": 7,
   "id": "14e30f8e",
   "metadata": {},
   "outputs": [
    {
     "name": "stderr",
     "output_type": "stream",
     "text": [
      "d:\\Documents\\Projects\\Serpentine\\comfynet-bci\\base.py:175: UserWarning: LogSoftmax final layer will be removed! Please adjust your loss function accordingly (e.g. CrossEntropyLoss)!\n",
      "  warnings.warn(\n",
      "  0%|\u001b[32m          \u001b[0m| 0/200 [00:00<?, ?it/s]d:\\Programs\\minconda3\\envs\\serpentine\\Lib\\site-packages\\torch\\nn\\modules\\conv.py:456: UserWarning: Plan failed with a cudnnException: CUDNN_BACKEND_EXECUTION_PLAN_DESCRIPTOR: cudnnFinalize Descriptor Failed cudnn_status: CUDNN_STATUS_NOT_SUPPORTED (Triggered internally at ..\\aten\\src\\ATen\\native\\cudnn\\Conv_v8.cpp:919.)\n",
      "  return F.conv2d(input, weight, bias, self.stride,\n",
      "Epoch 27, Loss: 0.448, Train Accuracy: 0.760, Validation Loss: 0.542, Validation Accuracy: 0.675:  14%|\u001b[32m█▎        \u001b[0m| 27/200 [00:44<04:46,  1.65s/it]\n"
     ]
    },
    {
     "ename": "KeyboardInterrupt",
     "evalue": "",
     "output_type": "error",
     "traceback": [
      "\u001b[1;31m---------------------------------------------------------------------------\u001b[0m",
      "\u001b[1;31mKeyboardInterrupt\u001b[0m                         Traceback (most recent call last)",
      "Cell \u001b[1;32mIn[7], line 25\u001b[0m\n\u001b[0;32m     21\u001b[0m         save_model(model,metrics[\u001b[38;5;241m-\u001b[39m\u001b[38;5;241m1\u001b[39m],optimizer, X_mean, X_std, \u001b[38;5;124mf\u001b[39m\u001b[38;5;124m\"\u001b[39m\u001b[38;5;124mmodel_\u001b[39m\u001b[38;5;132;01m{\u001b[39;00mi\u001b[38;5;132;01m}\u001b[39;00m\u001b[38;5;124m\"\u001b[39m)\n\u001b[0;32m     23\u001b[0m     \u001b[38;5;28;01mreturn\u001b[39;00m models, metrics\n\u001b[1;32m---> 25\u001b[0m models , metrics \u001b[38;5;241m=\u001b[39m \u001b[43msweep\u001b[49m\u001b[43m(\u001b[49m\u001b[43m)\u001b[49m\n",
      "Cell \u001b[1;32mIn[7], line 18\u001b[0m, in \u001b[0;36msweep\u001b[1;34m()\u001b[0m\n\u001b[0;32m     16\u001b[0m optimizer \u001b[38;5;241m=\u001b[39m torch\u001b[38;5;241m.\u001b[39moptim\u001b[38;5;241m.\u001b[39mAdamW(model\u001b[38;5;241m.\u001b[39mparameters(), lr\u001b[38;5;241m=\u001b[39m\u001b[38;5;241m0.0005\u001b[39m)\n\u001b[0;32m     17\u001b[0m loss \u001b[38;5;241m=\u001b[39m nn\u001b[38;5;241m.\u001b[39mNLLLoss()\n\u001b[1;32m---> 18\u001b[0m model, avg_train_loss, avg_train_acc, avg_val_loss, avg_val_acc \u001b[38;5;241m=\u001b[39m \u001b[43mtrain\u001b[49m\u001b[43m(\u001b[49m\u001b[43mmodel\u001b[49m\u001b[43m,\u001b[49m\u001b[43m \u001b[49m\u001b[43moptimizer\u001b[49m\u001b[43m,\u001b[49m\u001b[43m \u001b[49m\u001b[43mloss\u001b[49m\u001b[43m,\u001b[49m\u001b[43m \u001b[49m\u001b[43mtrain_dataloader\u001b[49m\u001b[43m,\u001b[49m\u001b[43m \u001b[49m\u001b[43mval_dataloader\u001b[49m\u001b[43m,\u001b[49m\u001b[43m \u001b[49m\u001b[43mepochs\u001b[49m\u001b[38;5;241;43m=\u001b[39;49m\u001b[38;5;241;43m200\u001b[39;49m\u001b[43m)\u001b[49m\n\u001b[0;32m     19\u001b[0m models\u001b[38;5;241m.\u001b[39mappend(model)\n\u001b[0;32m     20\u001b[0m metrics\u001b[38;5;241m.\u001b[39mappend((avg_train_loss, avg_train_acc, avg_val_loss, avg_val_acc))\n",
      "File \u001b[1;32md:\\Documents\\Projects\\Serpentine\\comfynet-bci\\train_test.py:31\u001b[0m, in \u001b[0;36mtrain\u001b[1;34m(model, optimizer, loss, train_dataloader, test_dataloader, epochs, device)\u001b[0m\n\u001b[0;32m     29\u001b[0m l\u001b[38;5;241m.\u001b[39mbackward()\n\u001b[0;32m     30\u001b[0m optimizer\u001b[38;5;241m.\u001b[39mstep()\n\u001b[1;32m---> 31\u001b[0m total_train_loss \u001b[38;5;241m+\u001b[39m\u001b[38;5;241m=\u001b[39m \u001b[43ml\u001b[49m\u001b[38;5;241;43m.\u001b[39;49m\u001b[43mitem\u001b[49m\u001b[43m(\u001b[49m\u001b[43m)\u001b[49m\n\u001b[0;32m     32\u001b[0m train_acc \u001b[38;5;241m+\u001b[39m\u001b[38;5;241m=\u001b[39m (y_pred\u001b[38;5;241m.\u001b[39margmax(\u001b[38;5;241m1\u001b[39m) \u001b[38;5;241m==\u001b[39m y)\u001b[38;5;241m.\u001b[39msum()\u001b[38;5;241m.\u001b[39mitem()\n\u001b[0;32m     33\u001b[0m trained_samples\u001b[38;5;241m+\u001b[39m\u001b[38;5;241m=\u001b[39m X\u001b[38;5;241m.\u001b[39mshape[\u001b[38;5;241m0\u001b[39m]\n",
      "\u001b[1;31mKeyboardInterrupt\u001b[0m: "
     ]
    }
   ],
   "source": [
    "def sweep():\n",
    "    models = []\n",
    "    metrics = []\n",
    "    for i in range(1,10):\n",
    "        excluded_subject = i\n",
    "        subjects = [i for i in range(1,10) if i != excluded_subject]\n",
    "        dataset = BNCI2014_001().get_data(subjects=subjects)\n",
    "        X, y, X_mean, X_std= get_data(subjects,dataset, normalize = True)\n",
    "        X_train, X_test, y_train, y_test = train_test_split(X, y, test_size=0.2, shuffle=True)\n",
    "        train_dataset = DatasetWrapped(X_train, y_train)\n",
    "        val_dataset = DatasetWrapped(X_test, y_test)\n",
    "        train_dataloader = AugmentedDataLoader(train_dataset, batch_size = 72,transforms = transforms, shuffle = True)\n",
    "        val_dataloader = AugmentedDataLoader(val_dataset, batch_size = 72, shuffle = False)\n",
    "\n",
    "        model = build_model()\n",
    "        optimizer = torch.optim.AdamW(model.parameters(), lr=0.0005)\n",
    "        loss = nn.NLLLoss()\n",
    "        model, avg_train_loss, avg_train_acc, avg_val_loss, avg_val_acc = train(model, optimizer, loss, train_dataloader, val_dataloader, epochs=200)\n",
    "        models.append(model)\n",
    "        metrics.append((avg_train_loss, avg_train_acc, avg_val_loss, avg_val_acc))\n",
    "        save_model(model,metrics[-1],optimizer, X_mean, X_std, f\"model_{i}\")\n",
    "\n",
    "    return models, metrics\n",
    "\n",
    "models , metrics = sweep()"
   ]
  },
  {
   "cell_type": "code",
   "execution_count": 16,
   "id": "6567f668",
   "metadata": {},
   "outputs": [
    {
     "data": {
      "image/png": "[encoded data removed]",
      "text/plain": [
       "<Figure size 1000x800 with 1 Axes>"
      ]
     },
     "metadata": {},
     "output_type": "display_data"
    }
   ],
   "source": [
    "val_accs = []\n",
    "for i in range(1,10):\n",
    "    checkpoint = torch.load(f\"models/model_{i}.pt\")\n",
    "    val_acc = checkpoint['val_acc']\n",
    "    val_accs.append(val_acc)\n",
    "\n",
    "plt.figure(figsize=(10,8))\n",
    "plt.bar(range(1,10),val_accs, color='#0e2841')\n",
    "plt.xlabel(\"Excluded Subject\")\n",
    "plt.ylabel(\"Accuracy\")  \n",
    "plt.xticks(range(1,10));\n"
   ]
  },
  {
   "cell_type": "code",
   "execution_count": 19,
   "id": "35d0c8ec",
   "metadata": {},
   "outputs": [
    {
     "name": "stdout",
     "output_type": "stream",
     "text": [
      "Tuning for subject  1 ...\n"
     ]
    },
    {
     "name": "stderr",
     "output_type": "stream",
     "text": [
      "d:\\Documents\\Projects\\Serpentine\\comfynet-bci\\base.py:175: UserWarning: LogSoftmax final layer will be removed! Please adjust your loss function accordingly (e.g. CrossEntropyLoss)!\n",
      "  warnings.warn(\n",
      "100%|\u001b[31m██████████\u001b[0m| 18/18 [00:00<00:00, 76.91it/s]\n"
     ]
    },
    {
     "name": "stdout",
     "output_type": "stream",
     "text": [
      "Test Loss: 0.281, Test Accuracy: 0.924\n"
     ]
    },
    {
     "name": "stderr",
     "output_type": "stream",
     "text": [
      "Epoch 20, Loss: 0.040, Train Accuracy: 0.996, Validation Loss: 0.151, Validation Accuracy: 0.948: 100%|\u001b[32m██████████\u001b[0m| 20/20 [00:03<00:00,  6.15it/s]\n",
      "100%|\u001b[31m██████████\u001b[0m| 1/1 [00:00<00:00, 125.00it/s]\n"
     ]
    },
    {
     "name": "stdout",
     "output_type": "stream",
     "text": [
      "Test Loss: 0.295, Test Accuracy: 0.914\n"
     ]
    },
    {
     "name": "stderr",
     "output_type": "stream",
     "text": [
      "100%|\u001b[31m██████████\u001b[0m| 1/1 [00:00<00:00, 124.99it/s]\n",
      "d:\\Documents\\Projects\\Serpentine\\comfynet-bci\\base.py:175: UserWarning: LogSoftmax final layer will be removed! Please adjust your loss function accordingly (e.g. CrossEntropyLoss)!\n",
      "  warnings.warn(\n"
     ]
    },
    {
     "name": "stdout",
     "output_type": "stream",
     "text": [
      "Test Loss: 0.362, Test Accuracy: 0.897\n",
      "Tuning for subject  2 ...\n"
     ]
    },
    {
     "name": "stderr",
     "output_type": "stream",
     "text": [
      "100%|\u001b[31m██████████\u001b[0m| 18/18 [00:00<00:00, 206.88it/s]\n"
     ]
    },
    {
     "name": "stdout",
     "output_type": "stream",
     "text": [
      "Test Loss: 4.041, Test Accuracy: 0.490\n"
     ]
    },
    {
     "name": "stderr",
     "output_type": "stream",
     "text": [
      "Epoch 20, Loss: 0.181, Train Accuracy: 0.930, Validation Loss: 0.322, Validation Accuracy: 0.879: 100%|\u001b[32m██████████\u001b[0m| 20/20 [00:03<00:00,  5.90it/s]\n",
      "100%|\u001b[31m██████████\u001b[0m| 1/1 [00:00<00:00, 125.01it/s]\n"
     ]
    },
    {
     "name": "stdout",
     "output_type": "stream",
     "text": [
      "Test Loss: 0.384, Test Accuracy: 0.845\n"
     ]
    },
    {
     "name": "stderr",
     "output_type": "stream",
     "text": [
      "100%|\u001b[31m██████████\u001b[0m| 1/1 [00:00<00:00, 125.04it/s]\n",
      "d:\\Documents\\Projects\\Serpentine\\comfynet-bci\\base.py:175: UserWarning: LogSoftmax final layer will be removed! Please adjust your loss function accordingly (e.g. CrossEntropyLoss)!\n",
      "  warnings.warn(\n"
     ]
    },
    {
     "name": "stdout",
     "output_type": "stream",
     "text": [
      "Test Loss: 4.487, Test Accuracy: 0.500\n",
      "Tuning for subject  3 ...\n"
     ]
    },
    {
     "name": "stderr",
     "output_type": "stream",
     "text": [
      "100%|\u001b[31m██████████\u001b[0m| 18/18 [00:00<00:00, 278.98it/s]\n"
     ]
    },
    {
     "name": "stdout",
     "output_type": "stream",
     "text": [
      "Test Loss: 0.679, Test Accuracy: 0.781\n"
     ]
    },
    {
     "name": "stderr",
     "output_type": "stream",
     "text": [
      "Epoch 20, Loss: 0.044, Train Accuracy: 0.978, Validation Loss: 0.287, Validation Accuracy: 0.914: 100%|\u001b[32m██████████\u001b[0m| 20/20 [00:03<00:00,  6.08it/s]\n",
      "100%|\u001b[31m██████████\u001b[0m| 1/1 [00:00<00:00, 124.99it/s]\n"
     ]
    },
    {
     "name": "stdout",
     "output_type": "stream",
     "text": [
      "Test Loss: 0.223, Test Accuracy: 0.966\n"
     ]
    },
    {
     "name": "stderr",
     "output_type": "stream",
     "text": [
      "100%|\u001b[31m██████████\u001b[0m| 1/1 [00:00<00:00, 125.06it/s]\n",
      "d:\\Documents\\Projects\\Serpentine\\comfynet-bci\\base.py:175: UserWarning: LogSoftmax final layer will be removed! Please adjust your loss function accordingly (e.g. CrossEntropyLoss)!\n",
      "  warnings.warn(\n"
     ]
    },
    {
     "name": "stdout",
     "output_type": "stream",
     "text": [
      "Test Loss: 0.534, Test Accuracy: 0.759\n",
      "Tuning for subject  4 ...\n"
     ]
    },
    {
     "name": "stderr",
     "output_type": "stream",
     "text": [
      "100%|\u001b[31m██████████\u001b[0m| 18/18 [00:00<00:00, 326.49it/s]\n"
     ]
    },
    {
     "name": "stdout",
     "output_type": "stream",
     "text": [
      "Test Loss: 1.372, Test Accuracy: 0.580\n"
     ]
    },
    {
     "name": "stderr",
     "output_type": "stream",
     "text": [
      "Epoch 20, Loss: 0.142, Train Accuracy: 0.948, Validation Loss: 0.451, Validation Accuracy: 0.828: 100%|\u001b[32m██████████\u001b[0m| 20/20 [00:03<00:00,  6.25it/s]\n",
      "100%|\u001b[31m██████████\u001b[0m| 1/1 [00:00<00:00, 125.00it/s]\n"
     ]
    },
    {
     "name": "stdout",
     "output_type": "stream",
     "text": [
      "Test Loss: 0.680, Test Accuracy: 0.776\n"
     ]
    },
    {
     "name": "stderr",
     "output_type": "stream",
     "text": [
      "100%|\u001b[31m██████████\u001b[0m| 1/1 [00:00<00:00, 124.99it/s]\n",
      "d:\\Documents\\Projects\\Serpentine\\comfynet-bci\\base.py:175: UserWarning: LogSoftmax final layer will be removed! Please adjust your loss function accordingly (e.g. CrossEntropyLoss)!\n",
      "  warnings.warn(\n"
     ]
    },
    {
     "name": "stdout",
     "output_type": "stream",
     "text": [
      "Test Loss: 1.275, Test Accuracy: 0.517\n",
      "Tuning for subject  5 ...\n"
     ]
    },
    {
     "name": "stderr",
     "output_type": "stream",
     "text": [
      "100%|\u001b[31m██████████\u001b[0m| 18/18 [00:00<00:00, 262.69it/s]\n"
     ]
    },
    {
     "name": "stdout",
     "output_type": "stream",
     "text": [
      "Test Loss: 3.477, Test Accuracy: 0.524\n"
     ]
    },
    {
     "name": "stderr",
     "output_type": "stream",
     "text": [
      "Epoch 20, Loss: 0.345, Train Accuracy: 0.857, Validation Loss: 0.946, Validation Accuracy: 0.655: 100%|\u001b[32m██████████\u001b[0m| 20/20 [00:03<00:00,  6.21it/s]\n",
      "100%|\u001b[31m██████████\u001b[0m| 1/1 [00:00<00:00, 111.10it/s]\n"
     ]
    },
    {
     "name": "stdout",
     "output_type": "stream",
     "text": [
      "Test Loss: 1.105, Test Accuracy: 0.534\n"
     ]
    },
    {
     "name": "stderr",
     "output_type": "stream",
     "text": [
      "100%|\u001b[31m██████████\u001b[0m| 1/1 [00:00<00:00, 117.45it/s]\n",
      "d:\\Documents\\Projects\\Serpentine\\comfynet-bci\\base.py:175: UserWarning: LogSoftmax final layer will be removed! Please adjust your loss function accordingly (e.g. CrossEntropyLoss)!\n",
      "  warnings.warn(\n"
     ]
    },
    {
     "name": "stdout",
     "output_type": "stream",
     "text": [
      "Test Loss: 4.204, Test Accuracy: 0.500\n",
      "Tuning for subject  6 ...\n"
     ]
    },
    {
     "name": "stderr",
     "output_type": "stream",
     "text": [
      "100%|\u001b[31m██████████\u001b[0m| 18/18 [00:00<00:00, 307.55it/s]\n"
     ]
    },
    {
     "name": "stdout",
     "output_type": "stream",
     "text": [
      "Test Loss: 5.079, Test Accuracy: 0.531\n"
     ]
    },
    {
     "name": "stderr",
     "output_type": "stream",
     "text": [
      "Epoch 20, Loss: 0.178, Train Accuracy: 0.930, Validation Loss: 0.836, Validation Accuracy: 0.776: 100%|\u001b[32m██████████\u001b[0m| 20/20 [00:03<00:00,  6.22it/s]\n",
      "100%|\u001b[31m██████████\u001b[0m| 1/1 [00:00<00:00, 111.12it/s]\n"
     ]
    },
    {
     "name": "stdout",
     "output_type": "stream",
     "text": [
      "Test Loss: 1.842, Test Accuracy: 0.724\n"
     ]
    },
    {
     "name": "stderr",
     "output_type": "stream",
     "text": [
      "100%|\u001b[31m██████████\u001b[0m| 1/1 [00:00<00:00, 142.86it/s]\n",
      "d:\\Documents\\Projects\\Serpentine\\comfynet-bci\\base.py:175: UserWarning: LogSoftmax final layer will be removed! Please adjust your loss function accordingly (e.g. CrossEntropyLoss)!\n",
      "  warnings.warn(\n"
     ]
    },
    {
     "name": "stdout",
     "output_type": "stream",
     "text": [
      "Test Loss: 4.718, Test Accuracy: 0.586\n",
      "Tuning for subject  7 ...\n"
     ]
    },
    {
     "name": "stderr",
     "output_type": "stream",
     "text": [
      "100%|\u001b[31m██████████\u001b[0m| 18/18 [00:00<00:00, 299.99it/s]\n"
     ]
    },
    {
     "name": "stdout",
     "output_type": "stream",
     "text": [
      "Test Loss: 2.168, Test Accuracy: 0.490\n"
     ]
    },
    {
     "name": "stderr",
     "output_type": "stream",
     "text": [
      "Epoch 20, Loss: 0.045, Train Accuracy: 0.983, Validation Loss: 0.278, Validation Accuracy: 0.914: 100%|\u001b[32m██████████\u001b[0m| 20/20 [00:03<00:00,  6.24it/s]\n",
      "100%|\u001b[31m██████████\u001b[0m| 1/1 [00:00<00:00, 118.68it/s]\n"
     ]
    },
    {
     "name": "stdout",
     "output_type": "stream",
     "text": [
      "Test Loss: 0.633, Test Accuracy: 0.897\n"
     ]
    },
    {
     "name": "stderr",
     "output_type": "stream",
     "text": [
      "100%|\u001b[31m██████████\u001b[0m| 1/1 [00:00<00:00, 131.95it/s]\n",
      "d:\\Documents\\Projects\\Serpentine\\comfynet-bci\\base.py:175: UserWarning: LogSoftmax final layer will be removed! Please adjust your loss function accordingly (e.g. CrossEntropyLoss)!\n",
      "  warnings.warn(\n"
     ]
    },
    {
     "name": "stdout",
     "output_type": "stream",
     "text": [
      "Test Loss: 2.559, Test Accuracy: 0.448\n",
      "Tuning for subject  8 ...\n"
     ]
    },
    {
     "name": "stderr",
     "output_type": "stream",
     "text": [
      "100%|\u001b[31m██████████\u001b[0m| 18/18 [00:00<00:00, 292.59it/s]\n"
     ]
    },
    {
     "name": "stdout",
     "output_type": "stream",
     "text": [
      "Test Loss: 0.558, Test Accuracy: 0.819\n"
     ]
    },
    {
     "name": "stderr",
     "output_type": "stream",
     "text": [
      "Epoch 20, Loss: 0.048, Train Accuracy: 0.970, Validation Loss: 0.463, Validation Accuracy: 0.862: 100%|\u001b[32m██████████\u001b[0m| 20/20 [00:03<00:00,  6.23it/s]\n",
      "100%|\u001b[31m██████████\u001b[0m| 1/1 [00:00<00:00, 111.09it/s]\n"
     ]
    },
    {
     "name": "stdout",
     "output_type": "stream",
     "text": [
      "Test Loss: 0.573, Test Accuracy: 0.862\n"
     ]
    },
    {
     "name": "stderr",
     "output_type": "stream",
     "text": [
      "100%|\u001b[31m██████████\u001b[0m| 1/1 [00:00<00:00, 124.95it/s]\n",
      "d:\\Documents\\Projects\\Serpentine\\comfynet-bci\\base.py:175: UserWarning: LogSoftmax final layer will be removed! Please adjust your loss function accordingly (e.g. CrossEntropyLoss)!\n",
      "  warnings.warn(\n"
     ]
    },
    {
     "name": "stdout",
     "output_type": "stream",
     "text": [
      "Test Loss: 0.551, Test Accuracy: 0.776\n",
      "Tuning for subject  9 ...\n"
     ]
    },
    {
     "name": "stderr",
     "output_type": "stream",
     "text": [
      "100%|\u001b[31m██████████\u001b[0m| 18/18 [00:00<00:00, 241.59it/s]\n"
     ]
    },
    {
     "name": "stdout",
     "output_type": "stream",
     "text": [
      "Test Loss: 0.669, Test Accuracy: 0.840\n"
     ]
    },
    {
     "name": "stderr",
     "output_type": "stream",
     "text": [
      "Epoch 20, Loss: 0.021, Train Accuracy: 0.991, Validation Loss: 0.068, Validation Accuracy: 0.948: 100%|\u001b[32m██████████\u001b[0m| 20/20 [00:03<00:00,  6.11it/s]\n",
      "100%|\u001b[31m██████████\u001b[0m| 1/1 [00:00<00:00, 125.02it/s]\n"
     ]
    },
    {
     "name": "stdout",
     "output_type": "stream",
     "text": [
      "Test Loss: 0.117, Test Accuracy: 0.966\n"
     ]
    },
    {
     "name": "stderr",
     "output_type": "stream",
     "text": [
      "100%|\u001b[31m██████████\u001b[0m| 1/1 [00:00<00:00, 124.99it/s]"
     ]
    },
    {
     "name": "stdout",
     "output_type": "stream",
     "text": [
      "Test Loss: 0.687, Test Accuracy: 0.862\n"
     ]
    },
    {
     "name": "stderr",
     "output_type": "stream",
     "text": [
      "\n"
     ]
    }
   ],
   "source": [
    "from copy import deepcopy\n",
    "def finetune():\n",
    "\n",
    "    before_finetune_accs = []\n",
    "    after_finetune_val_accs = []\n",
    "    before_finetune_val_accs = []\n",
    "    for i in range(1,10):\n",
    "        print(\"Tuning for subject \", i, \"...\")\n",
    "        checkpoint = torch.load(f\"models/model_{i}.pt\")\n",
    "        model = build_model()   \n",
    "        model.load_state_dict(checkpoint['model_state_dict'])\n",
    "        finetune_model = deepcopy(model)\n",
    "        optimizer = torch.optim.AdamW(finetune_model.parameters(), lr=10e-4)\n",
    "        loss = nn.NLLLoss()\n",
    "        subjects = [i]\n",
    "        dataset = BNCI2014_001().get_data(subjects=subjects)\n",
    "        X, y = get_data(subjects,dataset, normalize = False)\n",
    "        X_norm = (X - checkpoint['X_mean']) / checkpoint['X_std']\n",
    "        test_dataset = DatasetWrapped(X_norm, y)\n",
    "        test_dataloader = AugmentedDataLoader(test_dataset, batch_size = 16, shuffle = False)\n",
    "\n",
    "        test_loss, test_acc = test(model, loss, test_dataloader)\n",
    "        before_finetune_accs.append(test_acc)\n",
    "\n",
    "        X_train, X_test, y_train, y_test = train_test_split(X_norm, y, test_size=0.2, shuffle=True)\n",
    "        train_dataset = DatasetWrapped(X_train, y_train)\n",
    "        val_dataset = DatasetWrapped(X_test, y_test)\n",
    "        train_dataloader = AugmentedDataLoader(train_dataset, batch_size = 64,transforms = transforms, shuffle = True)\n",
    "        val_dataloader = AugmentedDataLoader(val_dataset, batch_size = 64, shuffle = False)\n",
    "        finetune_model, avg_train_loss, avg_train_acc, avg_val_loss, avg_val_acc = train(finetune_model, optimizer, loss, train_dataloader, val_dataloader, epochs=20)\n",
    "        finetune_test_loss, finetune_test_acc = test(finetune_model, loss, val_dataloader)\n",
    "        after_finetune_val_accs.append(finetune_test_acc)\n",
    "        before_finetune_test_loss, before_finetune_acc = test(model, loss, val_dataloader)\n",
    "        before_finetune_val_accs.append(before_finetune_acc)\n",
    "    \n",
    "    return before_finetune_accs, after_finetune_val_accs, before_finetune_val_accs\n",
    "\n",
    "before_finetune_accs, after_finetune_val_accs, before_finetune_val_accs = finetune()"
   ]
  },
  {
   "cell_type": "code",
   "execution_count": 20,
   "id": "d4265776",
   "metadata": {},
   "outputs": [
    {
     "data": {
      "image/png": "[encoded data removed]",
      "text/plain": [
       "<Figure size 1000x500 with 1 Axes>"
      ]
     },
     "metadata": {},
     "output_type": "display_data"
    }
   ],
   "source": [
    "# plot comparitive bar graph between befor_finetune_val_accs and after_finetune_val_accs\n",
    "X = np.arange(1,10)\n",
    "width = 0.4\n",
    "plt.figure(figsize=(10,5))\n",
    "plt.bar(X ,before_finetune_val_accs, width, label = \"Before Finetuning\", color  ='#0e2841')\n",
    "plt.bar(X+width,after_finetune_val_accs,width, label = \"After Finetuning\", color = '#c81919')\n",
    "plt.xlabel(\"Subject\")\n",
    "plt.ylabel(\"Accuracy\")\n",
    "plt.legend()\n",
    "plt.yticks(np.arange(0,1.1,0.1));\n",
    "plt.xticks(X+width/2, X);"
   ]
  },
  {
   "cell_type": "code",
   "execution_count": null,
   "id": "9e0806d8",
   "metadata": {},
   "outputs": [],
   "source": []
  }
 ],
 "metadata": {
  "kernelspec": {
   "display_name": "Python 3 (ipykernel)",
   "language": "python",
   "name": "python3"
  },
  "language_info": {
   "codemirror_mode": {
    "name": "ipython",
    "version": 3
   },
   "file_extension": ".py",
   "mimetype": "text/x-python",
   "name": "python",
   "nbconvert_exporter": "python",
   "pygments_lexer": "ipython3",
   "version": "3.11.7"
  }
 },
 "nbformat": 4,
 "nbformat_minor": 5
}
